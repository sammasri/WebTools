{
  "cells": [
    {
      "cell_type": "markdown",
      "metadata": {
        "id": "_wdxcVgUPE4o"
      },
      "source": [
        "#### Internet speed"
      ]
    },
    {
      "cell_type": "code",
      "execution_count": null,
      "metadata": {
        "cellView": "form",
        "id": "6mYSH1yDOwvw"
      },
      "outputs": [],
      "source": [
        "\n",
        "#@markdown\n",
        "\n",
        "!sudo apt install speedtest-cli\n",
        "!speedtest-cli --secure"
      ]
    },
    {
      "cell_type": "markdown",
      "metadata": {
        "id": "uE2KJ6ADS3VK"
      },
      "source": [
        "#### Drive"
      ]
    },
    {
      "cell_type": "code",
      "execution_count": null,
      "metadata": {
        "cellView": "form",
        "id": "X-rr26MmkDE6"
      },
      "outputs": [],
      "source": [
        "\n",
        "#@markdown\n",
        "\n",
        "if not os.path.exists(\"/content/drive\"):\n",
        "  from google.colab import drive\n",
        "  drive.mount('/content/drive')"
      ]
    },
    {
      "cell_type": "markdown",
      "metadata": {
        "id": "S1I9vawtyVLF"
      },
      "source": [
        "#### Requirements"
      ]
    },
    {
      "cell_type": "code",
      "execution_count": null,
      "metadata": {
        "cellView": "form",
        "id": "arU67rArEB32"
      },
      "outputs": [],
      "source": [
        "\n",
        "#@markdown\n",
        "\n",
        "!pip3 install beautifulsoup4\n",
        "!pip3 install requests"
      ]
    },
    {
      "cell_type": "markdown",
      "metadata": {
        "id": "cVKhiNTtydq9"
      },
      "source": [
        "#### Scrape"
      ]
    },
    {
      "cell_type": "code",
      "execution_count": 24,
      "metadata": {
        "cellView": "form",
        "id": "UEZO1IwTKaez"
      },
      "outputs": [],
      "source": [
        "\n",
        "#@markdown\n",
        "\n",
        "from bs4 import BeautifulSoup\n",
        "import requests\n",
        "import json\n",
        "import time\n",
        "\n",
        "Base = \"\" #@param {type:\"string\"}\n",
        "Target = \"\" #@param {type:\"string\"}\n",
        "Limit = None #@param {type:\"number\"}\n",
        "\n",
        "def scrape_posts(link_base, limit, target_class = '', id_var = ''):\n",
        "  var = f\"?{id_var}=\" if id_var else ''\n",
        "  scrape = {}\n",
        "  posts = []\n",
        "  for i in range(limit + 1):\n",
        "    time.sleep(0.1)\n",
        "    url = f\"{link_base}/?{var}{i}\"\n",
        "    response = requests.get(url)\n",
        "    if response.status_code == 200:\n",
        "      soup = BeautifulSoup(response.text, 'html.parser')\n",
        "      page = soup.find('div', {\"class\": target_class})\n",
        "      if page:\n",
        "        print(f'Post found: {url}')\n",
        "        posts.append(str(page))\n",
        "        continue\n",
        "    print(f'No Post:   {url}')\n",
        "\n",
        "  if posts:\n",
        "    scrape['posts'] = posts\n",
        "    return json.dumps(scrape)\n",
        "  else:\n",
        "    print('No posts found.')\n",
        "    return ''\n",
        "\n",
        "def write_json(text, filename = 'scrape_output.json'):\n",
        "  with open(filename, 'w') as file:\n",
        "    file.write(text)\n",
        "\n",
        "def read_json(filename):\n",
        "  with open(filename, 'r') as file:\n",
        "    json_dict = json.load(file)    \n",
        "    return json_dict\n",
        "\n",
        "scrape = scrape_posts(Base, target_class = Target, limit = Limit)\n",
        "write_json(scrape)"
      ]
    },
    {
      "cell_type": "code",
      "execution_count": null,
      "metadata": {
        "cellView": "form",
        "id": "OxvNJBnSEB33"
      },
      "outputs": [],
      "source": [
        "\n",
        "#@markdown\n",
        "\n",
        "import ftplib\n",
        " \n",
        "HOSTNAME = \"emasri.com\"\n",
        "USERNAME = \"emasri\"\n",
        "PASSWORD = \"FdbynnlPc8lf\"\n",
        "\n",
        "ftp_server = ftplib.FTP(HOSTNAME, USERNAME, PASSWORD)\n",
        "ftp_server.encoding = \"utf-8\"\n"
      ]
    },
    {
      "cell_type": "code",
      "execution_count": null,
      "metadata": {
        "cellView": "form",
        "id": "OxvNJBnSEB33"
      },
      "outputs": [],
      "source": [
        "\n",
        "#@markdown\n",
        "\n",
        "filepath = \"/content/drive/Shareddrives/SM8/Downloads/dhamantr.zip\"\n",
        "savepath = '/dhaman-tr.com/dhamantr.zip'\n",
        "with open(filepath, \"rb\") as file:\n",
        "\tftp_server.storbinary(f\"STOR {savepath}\", file)\n",
        "\n"
      ]
    }
  ],
  "metadata": {
    "colab": {
      "collapsed_sections": [],
      "name": "td",
      "provenance": []
    },
    "gpuClass": "standard",
    "kernelspec": {
      "display_name": "Python 3.9.7 64-bit",
      "language": "python",
      "name": "python3"
    },
    "language_info": {
      "codemirror_mode": {
        "name": "ipython",
        "version": 3
      },
      "file_extension": ".py",
      "mimetype": "text/x-python",
      "name": "python",
      "nbconvert_exporter": "python",
      "pygments_lexer": "ipython3",
      "version": "3.9.7"
    },
    "vscode": {
      "interpreter": {
        "hash": "c347c8f9a7ef94e4c9e03b4513be7835ed18f45b99a2a817fb579f408b867b16"
      }
    }
  },
  "nbformat": 4,
  "nbformat_minor": 0
}
