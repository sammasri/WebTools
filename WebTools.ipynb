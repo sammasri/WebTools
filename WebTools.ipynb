{
  "cells": [
    {
      "cell_type": "markdown",
      "metadata": {
        "id": "_wdxcVgUPE4o"
      },
      "source": [
        "#### Internet speed"
      ]
    },
    {
      "cell_type": "code",
      "execution_count": null,
      "metadata": {
        "cellView": "form",
        "id": "6mYSH1yDOwvw"
      },
      "outputs": [],
      "source": [
        "\n",
        "#@markdown\n",
        "\n",
        "!curl -s https://packagecloud.io/install/repositories/ookla/speedtest-cli/script.deb.sh | sudo bash &> /dev/null\n",
        "!sudo apt-get install speedtest &> /dev/null\n",
        "\n",
        "!speedtest"
      ]
    },
    {
      "cell_type": "markdown",
      "metadata": {
        "id": "fhhBAmBENoOf"
      },
      "source": [
        "#### Setup"
      ]
    },
    {
      "cell_type": "code",
      "execution_count": null,
      "metadata": {
        "cellView": "form",
        "id": "OxvNJBnSEB33"
      },
      "outputs": [],
      "source": [
        "\n",
        "#@markdown\n",
        "#!pip3 install requests &> /dev/null\n",
        "\n",
        "import os  \n",
        "from google.colab import drive\n",
        "import ipywidgets as widgets\n",
        "from IPython.display import display\n",
        "\n",
        "Drive = True #@param {type:\"boolean\"}\n",
        "Ftp = True #@param {type:\"boolean\"}\n",
        "\n",
        "if Drive and not os.path.exists(\"/content/drive\"):\n",
        "  drive.mount('/content/drive')\n",
        "\n",
        "if Ftp and not 'ftputil' in globals():\n",
        "  !pip install ftputil &> /dev/null\n",
        "  import ftputil\n",
        "\n",
        "Host = \"46.101.177.171\" #@param {type: \"string\"}\n",
        "Username = \"dhamantr\" #@param {type: \"string\"}\n",
        "Password = \"\" #@param {type: \"string\"}\n",
        "\n",
        "def data_str(byte_val):\n",
        "  size = ByteToGB(byte_val)\n",
        "  if (size >= 1) :\n",
        "    return \"{:.1f} GB\".format(size)\n",
        "  size = ByteToMB(byte_val)\n",
        "  if (size >= 1) :\n",
        "    return \"{:.1f} MB\".format(size)\n",
        "  size = ByteToKB(byte_val)\n",
        "  if (size >= 1) :\n",
        "    return \"{:.1f} KB\".format(size)\n",
        "  return \"{:.1f} B\".format(size)\n",
        "\n",
        "def speed_str(byte_val):\n",
        "  size_mb = ByteToMB(byte_val)\n",
        "  if (size_mb >= 1) :\n",
        "    return \"{:.1f} MB\".format(size_mb)\n",
        "  else:\n",
        "    return \"{:.1f} KB\".format(ByteToKB(byte_val))\n",
        "    \n",
        "def RoundTo1(n) :\n",
        "  if n < 1 and (n - 0.9765625) >= 0 :\n",
        "    return 1\n",
        "  else: \n",
        "    return n\n",
        "\n",
        "ByteToGB = lambda n: RoundTo1(n / 1073741824)\n",
        "ByteToMB = lambda n: RoundTo1(n/ 1048576)\n",
        "ByteToKB = lambda n: RoundTo1(n/ 1024)\n",
        "contains = lambda string, search: search.lower() in string.lower()\n",
        "time_str = lambda sec: time.strftime('%H:%M:%S', time.gmtime(sec))\n",
        "\n",
        "size_limit = 40000\n",
        "\n",
        "def has_size(path, only_check = True):\n",
        "  size = 0\n",
        "  if not os.path.exists(path):\n",
        "    return 0\n",
        "  if os.path.isfile(path):\n",
        "    size = os.path.getsize(path)\n",
        "  else:  \n",
        "    for path, dirs, files in os.walk(path):\n",
        "        for f in files:\n",
        "            fp = os.path.join(path, f)\n",
        "            size += os.path.getsize(fp)\n",
        "            if only_check and size >= size_limit:\n",
        "              return size\n",
        "  if size >= size_limit:\n",
        "    return size\n",
        "  else:\n",
        "    return 0\n",
        "\n",
        "def is_hidden(path: str):\n",
        "  return True if path[0] == '.' else False"
      ]
    },
    {
      "cell_type": "markdown",
      "metadata": {
        "id": "cVKhiNTtydq9"
      },
      "source": [
        "#### Scrape"
      ]
    },
    {
      "cell_type": "code",
      "execution_count": null,
      "metadata": {
        "cellView": "form",
        "id": "UEZO1IwTKaez"
      },
      "outputs": [],
      "source": [
        "\n",
        "#@markdown\n",
        "\n",
        "from bs4 import BeautifulSoup\n",
        "import requests\n",
        "import json\n",
        "import time\n",
        "\n",
        "Base = \"\" #@param {type:\"string\"}\n",
        "Target = \"\" #@param {type:\"string\"}\n",
        "Limit = 0 #@param {type:\"number\"}\n",
        "\n",
        "def scrape_posts(link_base, limit = 0, target_class = '', id_var = ''):\n",
        "  limit = 100 if limit == 0 else limit\n",
        "  var = f\"?{id_var}=\" if id_var else ''\n",
        "  scrape = {}\n",
        "  posts = []\n",
        "  for i in range(limit + 1):\n",
        "    time.sleep(0.1)\n",
        "    url = f\"{link_base}/?{var}{i}\"\n",
        "    response = requests.get(url)\n",
        "    if response.status_code == 200:\n",
        "      soup = BeautifulSoup(response.text, 'html.parser')\n",
        "      page = soup.find('div', {\"class\": target_class})\n",
        "      if page:\n",
        "        print(f'Post found: {url}')\n",
        "        posts.append(str(page))\n",
        "        continue\n",
        "    print(f'No Post:   {url}')\n",
        "\n",
        "  if posts:\n",
        "    scrape['posts'] = posts\n",
        "    return json.dumps(scrape)\n",
        "  else:\n",
        "    print('No posts found.')\n",
        "    return ''\n",
        "\n",
        "def write_json(text, filename = 'scrape_output.json'):\n",
        "  with open(filename, 'w') as file:\n",
        "    file.write(text)\n",
        "\n",
        "def read_json(filename):\n",
        "  with open(filename, 'r') as file:\n",
        "    json_dict = json.load(file)    \n",
        "    return json_dict\n",
        "\n",
        "scrape = scrape_posts(Base, target_class = Target, limit = Limit)\n",
        "write_json(scrape)"
      ]
    },
    {
      "cell_type": "markdown",
      "metadata": {
        "id": "E3rzNmNpECEy"
      },
      "source": [
        "#### FTP"
      ]
    },
    {
      "cell_type": "code",
      "execution_count": null,
      "metadata": {
        "cellView": "form",
        "id": "EGN-NwZNEAVf"
      },
      "outputs": [],
      "source": [
        "\n",
        "\n",
        "#@markdown\n",
        "\n",
        "import re\n",
        "Dir = \"\" #@param {type:\"string\"}\n",
        "Size = False #@param {type:\"boolean\"}\n",
        "file_re = r\"^.*\\.[A-Z,a-z,0-9]+$\"\n",
        "\n",
        "def ls(dir = \"\", size = False):\n",
        "  total_size = 0\n",
        "  with ftputil.FTPHost(Host, Username, Password) as ftp:\n",
        "    if not dir:\n",
        "      dir = ftp.curdir\n",
        "    names = ftp.listdir(dir)\n",
        "    names.sort(key = lambda obj: bool(re.search(file_re, obj)))\n",
        "    for name in names:\n",
        "      if size:\n",
        "        p0 = dir + '/' + name\n",
        "        s0 = 0\n",
        "        if ftp.path.isfile(p0):\n",
        "          s0 = ftp.path.getsize(p0)\n",
        "        else:  \n",
        "          for path, dirs, files in ftp.walk(p0):\n",
        "              for f in files:\n",
        "                  fp = path + '/' + f\n",
        "                  s0 += ftp.path.getsize(fp)\n",
        "        item = \"{:>6}  {}\".format(data_str(s0), name)\n",
        "        total_size += s0\n",
        "      else:\n",
        "        item = name\n",
        "      print(item)\n",
        "    if total_size:\n",
        "      print(f\"\\nTotal size: {data_str(total_size)}\")\n",
        "ls(Dir, Size)\n"
      ]
    },
    {
      "cell_type": "markdown",
      "metadata": {
        "id": "PQlzql_VN51R"
      },
      "source": [
        "#### Transfer"
      ]
    },
    {
      "cell_type": "code",
      "execution_count": null,
      "metadata": {
        "cellView": "form",
        "id": "LSNe-1C-833I"
      },
      "outputs": [],
      "source": [
        "\n",
        "#@markdown\n",
        "\n",
        "Upload = 0\n",
        "Download = 1\n",
        "\n",
        "Path = \"\" #@param {type: \"string\"}\n",
        "SavePath = '/content/drive/Shareddrives/SM50/Websites/Dhaman' #@param {type: \"string\"}\n",
        "Action = Download #@param [\"Upload\", \"Download\"] {type: \"raw\"}\n",
        "done_path = '/content/done'\n",
        "os.makedirs(done_path, exist_ok = True)\n",
        "os.makedirs(SavePath, exist_ok = True)\n",
        "total_size = 0\n",
        "total_str = \"\"\n",
        "done = 0\n",
        "patch_size = 0\n",
        "\n",
        "layout_15 ={'width':'auto', 'flex':'15 1 0%', 'align_items':\"center\"}\n",
        "layout_10 ={'width':'auto', 'flex':'10 1 0%', 'align_items':\"center\"}\n",
        "layout_8 ={'width':'auto', 'flex':'8 1 0%', 'align_items':\"center\"}\n",
        "layout_7 ={'width':'auto', 'flex':'7 1 0%', 'align_items':\"center\"}\n",
        "layout_5 ={'width':'auto', 'flex':'5 1 0%', 'align_items':\"center\"}\n",
        "layout_4 ={'width':'auto', 'flex':'4 1 0%', 'align_items':\"center\"}\n",
        "layout_3 ={'width':'auto', 'flex':'3 1 0%', 'align_items':\"center\"}\n",
        "layout_2 ={'width':'auto', 'flex':'2 1 0%', 'align_items':\"center\"}\n",
        "layout_1 ={'width':'auto', 'flex':'1 1 0%', 'align_items':\"center\"}\n",
        "layout_r = {'padding-left':'100px','flex_flow':'row','align_items':'flex-start','width':'95%','justify_content':'space-around'}\n",
        "style0= {\"padding-left\":\"200px\",\"padding-right\":\"200px\"}\n",
        "\n",
        "empty_label_1 = widgets.Label(value = \"\", layout = layout_1)\n",
        "empty_label_2 = widgets.Label(value = \"\", layout = layout_2)\n",
        "empty_label_3 = widgets.Label(value = \"\", layout = layout_3)\n",
        "empty_label_4 = widgets.Label(value = \"\", layout = layout_4)\n",
        "empty_label_5 = widgets.Label(value = \"\", layout = layout_5)\n",
        "\n",
        "progress_bar = widgets.FloatProgress(\n",
        "      value=0,\n",
        "      min=0,\n",
        "      max=100,\n",
        "      step=0.1,\n",
        "      bar_style='info',\n",
        "      orientation='horizontal',\n",
        "      layout=layout_15)\n",
        "\n",
        "done_label = widgets.Label(\n",
        "    value = f\"\",\n",
        "    layout = layout_2\n",
        ")\n",
        "\n",
        "progress_label = widgets.Label(\n",
        "    value = f\"0%\",\n",
        "    layout = layout_1\n",
        ")\n",
        "\n",
        "download_label = widgets.Label(\n",
        "    value = f\"Downloading\",\n",
        "    layout = layout_r\n",
        ")\n",
        "\n",
        "r1 = widgets.Box([ empty_label_2, done_label, empty_label_1, progress_label, progress_bar, empty_label_2], layout = layout_r, style = style0)\n",
        "\n",
        "def update_upload(chunk):\n",
        "  global done, total_size, progress_bar, progress_label, done_label\n",
        "  done += len(chunk)\n",
        "  progress = round(done*100/total_size, 1)\n",
        "  progress_bar.value = progress\n",
        "  if progress == 100:\n",
        "    progress_bar.bar_style = 'success'\n",
        "  done_label.value = f\"{data_str(done)} {total_str}\"\n",
        "  progress_label.value = f\"{progress}%\"\n",
        "\n",
        "def update_download(chunk):\n",
        "  global done, download_label, patch_size \n",
        "  patch = len(chunk)\n",
        "  done += patch\n",
        "  result = ' -  Transfered Successfully' if patch < patch_size else ''\n",
        "  download_label.value = f\"Transfered {data_str(done)} {result}\"\n",
        "  if not patch_size:\n",
        "    patch_size = patch\n",
        "\n",
        "def upload(path, savepath, callback = None):\n",
        "  global total_size, total_str\n",
        "  total_size = os.path.getsize(Path)\n",
        "  total_str = data_str(total_size)\n",
        "  with ftputil.FTPHost(Host, Username, Password) as ftphost:\n",
        "    ftphost.upload_if_newer(path, savepath, callback = callback)\n",
        "\n",
        "def download(path, savepath, callback = None):\n",
        "  global total_size, total_str\n",
        "  total_size = 0\n",
        "  total_str = ''\n",
        "  with ftputil.FTPHost(Host, Username, Password) as ftp:\n",
        "    target = f\"{done_path}/{os.path.basename(path)}\"\n",
        "    ftp.download(path, target, callback = callback)\n",
        "    if has_size(target):\n",
        "      !mv \"$target\" \"$savepath\"\n",
        "\n",
        "if Path:\n",
        "  if Action == Upload:\n",
        "    display(r1)\n",
        "    upload(Path, SavePath, callback = update_upload)\n",
        "  else:\n",
        "    display(download_label)\n",
        "    download(Path, SavePath, callback = update_download)\n"
      ]
    },
    {
      "cell_type": "markdown",
      "metadata": {
        "id": "1DOis0AgN_Ao"
      },
      "source": [
        "\n",
        "---\n"
      ]
    },
    {
      "cell_type": "code",
      "execution_count": null,
      "metadata": {
        "cellView": "form",
        "id": "ufP2IYmD8O3z"
      },
      "outputs": [],
      "source": [
        "\n",
        "\n",
        "#@markdown\n",
        "# codex\n",
        "\n",
        "import ftputil\n",
        "\n",
        "# Download some files from the login directory.\n",
        "with ftputil.FTPHost(\"ftp.domain.com\", \"user\", \"password\") as ftphost:\n",
        "  names = ftphost.listdir(ftphost.curdir)\n",
        "  for name in names:\n",
        "      if ftphost.path.isfile(name):\n",
        "          ftphost.download(name, name)  # remote, local\n",
        "\n",
        "  # Make a new directory and copy a remote file into it.\n",
        "  ftphost.mkdir(\"newdir\")\n",
        "  with ftphost.open(\"index.html\", \"rb\") as source:\n",
        "      with ftphost.open(\"newdir/index.html\", \"wb\") as target:\n",
        "          ftphost.copyfileobj(source, target)  # similar to shutil.copyfileobj\n",
        "\n",
        "  ftphost.upload(source, target, callback=None)\n",
        "  ftphost.upload_if_newer(source, target, callback=None)"
      ]
    }
  ],
  "metadata": {
    "colab": {
      "collapsed_sections": [],
      "name": "WebTools",
      "provenance": []
    },
    "gpuClass": "standard",
    "kernelspec": {
      "display_name": "Python 3.9.7 64-bit",
      "language": "python",
      "name": "python3"
    },
    "language_info": {
      "codemirror_mode": {
        "name": "ipython",
        "version": 3
      },
      "file_extension": ".py",
      "mimetype": "text/x-python",
      "name": "python",
      "nbconvert_exporter": "python",
      "pygments_lexer": "ipython3",
      "version": "3.9.7"
    },
    "vscode": {
      "interpreter": {
        "hash": "c347c8f9a7ef94e4c9e03b4513be7835ed18f45b99a2a817fb579f408b867b16"
      }
    }
  },
  "nbformat": 4,
  "nbformat_minor": 0
}
